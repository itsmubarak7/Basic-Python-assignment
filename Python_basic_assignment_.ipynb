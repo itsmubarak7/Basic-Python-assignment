{
  "nbformat": 4,
  "nbformat_minor": 0,
  "metadata": {
    "colab": {
      "provenance": []
    },
    "kernelspec": {
      "name": "python3",
      "display_name": "Python 3"
    },
    "language_info": {
      "name": "python"
    }
  },
  "cells": [
    {
      "cell_type": "markdown",
      "source": [
        "#1. What is Python, and why is it popular ?\n",
        "\n",
        "Python is a programming language  and it is popular due its easy and simple syntax.\n",
        "\n",
        "\n",
        "#2. What is an interpreter in Python ?\n",
        "\n",
        "Interpretor is basically a language transmitor, used to convert one langauage to another.\n",
        "\n",
        "#3. What are pre-defined keywords in Python ?\n",
        "\n",
        "Pre-defined Keyword is basically a value defined to a key . it returns the value when it call.\n",
        "\n",
        "#4. Can keywords be used as variable name ?\n",
        "\n",
        "No, keyword can't be used as veriable name because keyword is defined as a special meaning.\n",
        "\n",
        "#5. What is mutability in Python ?\n",
        "\n",
        "Mutability refers to those values which can be change or modified as per required.\n",
        "\n",
        "#6. Why are lists mutable, but tuples are immutable ?\n",
        "\n",
        "Lists are mutable because we can add or modify elements but tuples are immutable because it restricts to add or modify element.\n",
        "\n",
        "#7. What is the difference between “==” and “is” operators in Python ?\n",
        "\n",
        "Both \"==\" and \"is\" conditional operator, if conditions are met it return true or false but have following differences-\n",
        "     \"==\" have no unique memory location but \"is\" have unique memory location\n",
        "\n",
        "#8. What are logical operators in Python ?\n",
        "   \n",
        "logical operators return boolean value ( 'true' or 'false' ) if condition or logic met .\n",
        "   - there are 3 logical operators ( and, or, not ).\n",
        "\n",
        "#9 What is type casting in Python ?\n",
        "\n",
        "Type casting refers to type conversion from one data type to other.\n",
        "  -for example : int-string, string-int, int-float, etc.\n",
        "\n",
        "#10. What is the difference between implicit and explicit type casting ?\n",
        "  \n",
        "Implicit type casting done by complier itself whereas explicit conversion refers to casting where it is done by programmer .\n",
        "\n",
        "#11. What is the purpose of conditional statements in Python.\n",
        "\n",
        "Conditional statements are used in python code to check and return a value if condition is true or false .\n",
        "- It helps to solve repetitive work.\n",
        "\n"
      ],
      "metadata": {
        "id": "AaOnynUIXvzP"
      }
    },
    {
      "cell_type": "code",
      "source": [
        "#1 Write a Python program to print \"Hello, World!\"\n",
        "\n",
        "x= \"Hello, World!\"\n",
        "print (x)"
      ],
      "metadata": {
        "collapsed": true,
        "id": "6V2oOSoSY_7n"
      },
      "execution_count": null,
      "outputs": []
    },
    {
      "cell_type": "code",
      "source": [
        "#2 Write a Python program that displays your name and age ?\n",
        "\n",
        "name=\"mubarak\"\n",
        "age=23\n",
        "\n",
        "print (\"my name is\", (name))\n",
        "print (\"my age is\", (age))"
      ],
      "metadata": {
        "id": "ka_KQvTRaYqk"
      },
      "execution_count": null,
      "outputs": []
    },
    {
      "cell_type": "code",
      "source": [
        "#3 Write code to print all the pre-defined keywords in Python using the keyword library ?\n",
        "\n",
        "import keyword\n",
        "\n",
        "print (keyword.kwlist)"
      ],
      "metadata": {
        "id": "pGwgwQ8TagYe"
      },
      "execution_count": null,
      "outputs": []
    },
    {
      "cell_type": "code",
      "source": [
        "#4 Write a program that checks if a given word is a Python keyword ?\n",
        "\n",
        "import keyword\n",
        "\n",
        "# Get input from the user\n",
        "word = input(\"Enter a word to check: \")\n",
        "\n",
        "# Check if the word is a Python keyword\n",
        "if keyword.iskeyword(word):\n",
        "    print(f\"'{word}' is a Python keyword.\")\n",
        "else:\n",
        "    print(f\"'{word}' is not a Python keyword.\")"
      ],
      "metadata": {
        "id": "ccMR2atuak3c"
      },
      "execution_count": null,
      "outputs": []
    },
    {
      "cell_type": "code",
      "source": [
        "#5 Create a list and tuple in Python, and demonstrate how attempting to change an element works differently for each ?\n",
        "\n"
      ],
      "metadata": {
        "id": "w5flYfDSapXZ"
      },
      "execution_count": null,
      "outputs": []
    }
  ]
}